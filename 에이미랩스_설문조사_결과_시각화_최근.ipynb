{
 "cells": [
  {
   "cell_type": "markdown",
   "metadata": {
    "colab_type": "text",
    "id": "view-in-github"
   },
   "source": [
    "<a href=\"https://colab.research.google.com/github/mjiii25/IBK/blob/main/%EC%97%90%EC%9D%B4%EB%AF%B8%EB%9E%A9%EC%8A%A4_%EC%84%A4%EB%AC%B8%EC%A1%B0%EC%82%AC_%EA%B2%B0%EA%B3%BC_%EC%8B%9C%EA%B0%81%ED%99%94.ipynb\" target=\"_parent\"><img src=\"https://colab.research.google.com/assets/colab-badge.svg\" alt=\"Open In Colab\"/></a>"
   ]
  },
  {
   "cell_type": "code",
   "execution_count": 1,
   "metadata": {
    "id": "o8tBJQxFLizr"
   },
   "outputs": [],
   "source": [
    "#기본 설정 및 데이터 불러오기\n",
    "import warnings\n",
    "warnings.filterwarnings(action='ignore')\n",
    "\n",
    "import pandas as pd\n",
    "\n",
    "%matplotlib inline\n",
    "import matplotlib.pyplot as plt\n",
    "\n",
    "import seaborn as sns"
   ]
  },
  {
   "cell_type": "code",
   "execution_count": 2,
   "metadata": {},
   "outputs": [],
   "source": [
    "from matplotlib import rc\n",
    "import platform\n",
    "\n",
    "if platform.system() == 'Windows':\n",
    "    rc('font', family='Malgun Gothic')\n",
    "elif platform.system() == 'Darwin': # Mac\n",
    "    rc('font', family='AppleGothic')\n",
    "else: #linux\n",
    "    rc('font', family='NanumGothic')\n",
    "    \n",
    "plt.rcParams['axes.unicode_minus'] = False # 마이너스 기호 깨짐 현상 해결 코드"
   ]
  },
  {
   "cell_type": "code",
   "execution_count": 3,
   "metadata": {
    "id": "wO9VZccdwGb6"
   },
   "outputs": [],
   "source": [
    "import pandas as pd\n",
    "import numpy as np\n",
    "\n",
    "import matplotlib\n",
    "import matplotlib.pyplot as plt\n",
    "import seaborn as sns"
   ]
  },
  {
   "cell_type": "code",
   "execution_count": 4,
   "metadata": {
    "colab": {
     "base_uri": "https://localhost:8080/"
    },
    "id": "CwmpqVnV80q4",
    "outputId": "bb2282fb-bc7c-4b69-c762-e030a4b3155c"
   },
   "outputs": [],
   "source": [
    "# from google.colab import drive\n",
    "# drive.mount('/content/mydrive')"
   ]
  },
  {
   "cell_type": "code",
   "execution_count": 5,
   "metadata": {
    "id": "hnZMb66Y7F7S"
   },
   "outputs": [],
   "source": [
    "# dat = pd.read_csv('/content/mydrive/MyDrive/에이미랩스 설문조사 결과.csv', encoding = 'euc-kr')\n",
    "dat = pd.read_csv('C:/Users/WIN10/성민지/에이미랩스 설문조사 결과.csv', encoding = 'euc-kr')"
   ]
  },
  {
   "cell_type": "code",
   "execution_count": 6,
   "metadata": {
    "colab": {
     "base_uri": "https://localhost:8080/",
     "height": 644
    },
    "id": "Wt1GIlXB7zIy",
    "outputId": "4d67c419-ce8c-4589-d70f-96bf69dd643f"
   },
   "outputs": [
    {
     "name": "stdout",
     "output_type": "stream",
     "text": [
      "(100, 31)\n"
     ]
    },
    {
     "data": {
      "text/html": [
       "<div>\n",
       "<style scoped>\n",
       "    .dataframe tbody tr th:only-of-type {\n",
       "        vertical-align: middle;\n",
       "    }\n",
       "\n",
       "    .dataframe tbody tr th {\n",
       "        vertical-align: top;\n",
       "    }\n",
       "\n",
       "    .dataframe thead th {\n",
       "        text-align: right;\n",
       "    }\n",
       "</style>\n",
       "<table border=\"1\" class=\"dataframe\">\n",
       "  <thead>\n",
       "    <tr style=\"text-align: right;\">\n",
       "      <th></th>\n",
       "      <th>타임스탬프</th>\n",
       "      <th>귀하의 성별은 무엇입니까?</th>\n",
       "      <th>귀하의 연령대는?</th>\n",
       "      <th>귀하가 즐겨하는 운동은?</th>\n",
       "      <th>영양제를 선택할 때, 각 항목에 대한 중요도를 표시해주세요. (1 : 매우 중요하지 않음 ~ 5 : 매우 중요함) [영양제의 크기]</th>\n",
       "      <th>영양제를 선택할 때, 각 항목에 대한 중요도를 표시해주세요. (1 : 매우 중요하지 않음 ~ 5 : 매우 중요함) [영양제의 냄새]</th>\n",
       "      <th>영양제를 선택할 때, 각 항목에 대한 중요도를 표시해주세요. (1 : 매우 중요하지 않음 ~ 5 : 매우 중요함) [영양제의 제형 (캡슐, 정, 가루, 액상 등)]</th>\n",
       "      <th>영양제를 선택할 때, 각 항목에 대한 중요도를 표시해주세요. (1 : 매우 중요하지 않음 ~ 5 : 매우 중요함) [영양제의 성분]</th>\n",
       "      <th>영양제를 선택할 때, 각 항목에 대한 중요도를 표시해주세요. (1 : 매우 중요하지 않음 ~ 5 : 매우 중요함) [영양제의 가격]</th>\n",
       "      <th>영양제를 선택할 때, 각 항목에 대한 중요도를 표시해주세요. (1 : 매우 중요하지 않음 ~ 5 : 매우 중요함) [영양제의 함량]</th>\n",
       "      <th>...</th>\n",
       "      <th>_2</th>\n",
       "      <th>에이미랩스의 장점은? (위의 분석 리포트 참고)</th>\n",
       "      <th>에이미랩스의 단점은? (상단 분석 리포트 이미지 참고)</th>\n",
       "      <th>에이미랩스를 주변 지인에게 추천할 의향이 있으신가요?</th>\n",
       "      <th>추천 의향이 있는 이유는?</th>\n",
       "      <th>추천 의향이 없는 이유는?</th>\n",
       "      <th>해당 플랫폼에 분석 또는 건강보험공단 및 의료기관과의 협업을 위한 건강검진 정보를 제공해야 한다면 제공할 의향이 있으십니까?</th>\n",
       "      <th>추후에 에이미랩스를 실제로 사용할 기회가 생긴다면 얻고 싶은 정보는?</th>\n",
       "      <th>에이미랩스의 영양제 분석 리포트에 추가로 포함되었으면 하는 내용이 있으십니까?</th>\n",
       "      <th>에이미랩스에 새롭게 제안하실 내용이 있으십니까?</th>\n",
       "    </tr>\n",
       "  </thead>\n",
       "  <tbody>\n",
       "    <tr>\n",
       "      <th>0</th>\n",
       "      <td>2023-02-04 18:55</td>\n",
       "      <td>NaN</td>\n",
       "      <td>NaN</td>\n",
       "      <td>NaN</td>\n",
       "      <td>NaN</td>\n",
       "      <td>NaN</td>\n",
       "      <td>NaN</td>\n",
       "      <td>NaN</td>\n",
       "      <td>NaN</td>\n",
       "      <td>NaN</td>\n",
       "      <td>...</td>\n",
       "      <td>NaN</td>\n",
       "      <td>NaN</td>\n",
       "      <td>NaN</td>\n",
       "      <td>NaN</td>\n",
       "      <td>NaN</td>\n",
       "      <td>NaN</td>\n",
       "      <td>NaN</td>\n",
       "      <td>NaN</td>\n",
       "      <td>NaN</td>\n",
       "      <td>NaN</td>\n",
       "    </tr>\n",
       "    <tr>\n",
       "      <th>1</th>\n",
       "      <td>2023-02-05 1:46</td>\n",
       "      <td>남</td>\n",
       "      <td>30대</td>\n",
       "      <td>헬스</td>\n",
       "      <td>1.0</td>\n",
       "      <td>2.0</td>\n",
       "      <td>2.0</td>\n",
       "      <td>3.0</td>\n",
       "      <td>3.0</td>\n",
       "      <td>3.0</td>\n",
       "      <td>...</td>\n",
       "      <td>3.0</td>\n",
       "      <td>간단한 설문만으로도 영양제 분석 및 추천 서비스를 받을 수 있음, 영양제 섭취 습관...</td>\n",
       "      <td>영양제 추천이 부실함</td>\n",
       "      <td>예</td>\n",
       "      <td>제품 추천 시 뜨는 '약사의 Tip' 설명</td>\n",
       "      <td>예' 선택함, 홈페이지 기능 부족으로 인해 신뢰하기 어려움</td>\n",
       "      <td>예</td>\n",
       "      <td>부족한 또는 보충이 필요한 영양성분에 대한 정보, 연령, 수면패턴, 음주횟수, 출산...</td>\n",
       "      <td>NaN</td>\n",
       "      <td>NaN</td>\n",
       "    </tr>\n",
       "    <tr>\n",
       "      <th>2</th>\n",
       "      <td>2023-02-05 1:50</td>\n",
       "      <td>여</td>\n",
       "      <td>20대</td>\n",
       "      <td>필라테스/요가</td>\n",
       "      <td>4.0</td>\n",
       "      <td>3.0</td>\n",
       "      <td>3.0</td>\n",
       "      <td>4.0</td>\n",
       "      <td>3.0</td>\n",
       "      <td>3.0</td>\n",
       "      <td>...</td>\n",
       "      <td>2.0</td>\n",
       "      <td>부족한 영양성분 파악 가능</td>\n",
       "      <td>영양제 분석 리포트를 제공받기 위한 사전설문이 부실함, 화면 구성이 불편해보임</td>\n",
       "      <td>아니오</td>\n",
       "      <td>아니오' 선택함</td>\n",
       "      <td>홈페이지 기능 부족으로 인해 신뢰하기 어려움</td>\n",
       "      <td>예</td>\n",
       "      <td>부족한 또는 보충이 필요한 영양성분에 대한 정보, 연령, 수면패턴, 음주횟수, 출산...</td>\n",
       "      <td>부작용 요소</td>\n",
       "      <td>NaN</td>\n",
       "    </tr>\n",
       "    <tr>\n",
       "      <th>3</th>\n",
       "      <td>2023-02-05 1:53</td>\n",
       "      <td>남</td>\n",
       "      <td>30대</td>\n",
       "      <td>헬스</td>\n",
       "      <td>2.0</td>\n",
       "      <td>4.0</td>\n",
       "      <td>2.0</td>\n",
       "      <td>4.0</td>\n",
       "      <td>4.0</td>\n",
       "      <td>4.0</td>\n",
       "      <td>...</td>\n",
       "      <td>3.0</td>\n",
       "      <td>영양제 섭취 습관에 대한 개인 맞춤형 분석 제공</td>\n",
       "      <td>영양제 분석 리포트를 제공받기 위한 사전설문이 부실함</td>\n",
       "      <td>아니오</td>\n",
       "      <td>아니오' 선택함</td>\n",
       "      <td>홈페이지 기능 부족으로 인해 신뢰하기 어려움</td>\n",
       "      <td>예</td>\n",
       "      <td>부족한 또는 보충이 필요한 영양성분에 대한 정보</td>\n",
       "      <td>NaN</td>\n",
       "      <td>NaN</td>\n",
       "    </tr>\n",
       "    <tr>\n",
       "      <th>4</th>\n",
       "      <td>2023-02-05 6:22</td>\n",
       "      <td>여</td>\n",
       "      <td>30대</td>\n",
       "      <td>필라테스/요가</td>\n",
       "      <td>4.0</td>\n",
       "      <td>4.0</td>\n",
       "      <td>4.0</td>\n",
       "      <td>2.0</td>\n",
       "      <td>4.0</td>\n",
       "      <td>4.0</td>\n",
       "      <td>...</td>\n",
       "      <td>5.0</td>\n",
       "      <td>직관적이고 간편한 화면 구성</td>\n",
       "      <td>영양제 분석 리포트를 제공받기 위한 사전설문에 상당 시간 소요됨</td>\n",
       "      <td>예</td>\n",
       "      <td>아니오' 선택함</td>\n",
       "      <td>예' 선택함</td>\n",
       "      <td>예</td>\n",
       "      <td>부족한 또는 보충이 필요한 영양성분에 대한 정보</td>\n",
       "      <td>NaN</td>\n",
       "      <td>NaN</td>\n",
       "    </tr>\n",
       "  </tbody>\n",
       "</table>\n",
       "<p>5 rows × 31 columns</p>\n",
       "</div>"
      ],
      "text/plain": [
       "              타임스탬프 귀하의 성별은 무엇입니까? 귀하의 연령대는? 귀하가 즐겨하는 운동은?  \\\n",
       "0  2023-02-04 18:55            NaN       NaN           NaN   \n",
       "1   2023-02-05 1:46              남       30대            헬스   \n",
       "2   2023-02-05 1:50              여       20대       필라테스/요가   \n",
       "3   2023-02-05 1:53              남       30대            헬스   \n",
       "4   2023-02-05 6:22              여       30대       필라테스/요가   \n",
       "\n",
       "   영양제를 선택할 때, 각 항목에 대한 중요도를 표시해주세요. (1 : 매우 중요하지 않음 ~ 5 : 매우 중요함) [영양제의 크기]  \\\n",
       "0                                                NaN                           \n",
       "1                                                1.0                           \n",
       "2                                                4.0                           \n",
       "3                                                2.0                           \n",
       "4                                                4.0                           \n",
       "\n",
       "   영양제를 선택할 때, 각 항목에 대한 중요도를 표시해주세요. (1 : 매우 중요하지 않음 ~ 5 : 매우 중요함) [영양제의 냄새]  \\\n",
       "0                                                NaN                           \n",
       "1                                                2.0                           \n",
       "2                                                3.0                           \n",
       "3                                                4.0                           \n",
       "4                                                4.0                           \n",
       "\n",
       "   영양제를 선택할 때, 각 항목에 대한 중요도를 표시해주세요. (1 : 매우 중요하지 않음 ~ 5 : 매우 중요함) [영양제의 제형 (캡슐, 정, 가루, 액상 등)]  \\\n",
       "0                                                NaN                                             \n",
       "1                                                2.0                                             \n",
       "2                                                3.0                                             \n",
       "3                                                2.0                                             \n",
       "4                                                4.0                                             \n",
       "\n",
       "   영양제를 선택할 때, 각 항목에 대한 중요도를 표시해주세요. (1 : 매우 중요하지 않음 ~ 5 : 매우 중요함) [영양제의 성분]  \\\n",
       "0                                                NaN                           \n",
       "1                                                3.0                           \n",
       "2                                                4.0                           \n",
       "3                                                4.0                           \n",
       "4                                                2.0                           \n",
       "\n",
       "   영양제를 선택할 때, 각 항목에 대한 중요도를 표시해주세요. (1 : 매우 중요하지 않음 ~ 5 : 매우 중요함) [영양제의 가격]  \\\n",
       "0                                                NaN                           \n",
       "1                                                3.0                           \n",
       "2                                                3.0                           \n",
       "3                                                4.0                           \n",
       "4                                                4.0                           \n",
       "\n",
       "   영양제를 선택할 때, 각 항목에 대한 중요도를 표시해주세요. (1 : 매우 중요하지 않음 ~ 5 : 매우 중요함) [영양제의 함량]  \\\n",
       "0                                                NaN                           \n",
       "1                                                3.0                           \n",
       "2                                                3.0                           \n",
       "3                                                4.0                           \n",
       "4                                                4.0                           \n",
       "\n",
       "   ...   _2                         에이미랩스의 장점은? (위의 분석 리포트 참고)  \\\n",
       "0  ...  NaN                                                NaN   \n",
       "1  ...  3.0  간단한 설문만으로도 영양제 분석 및 추천 서비스를 받을 수 있음, 영양제 섭취 습관...   \n",
       "2  ...  2.0                                     부족한 영양성분 파악 가능   \n",
       "3  ...  3.0                         영양제 섭취 습관에 대한 개인 맞춤형 분석 제공   \n",
       "4  ...  5.0                                    직관적이고 간편한 화면 구성   \n",
       "\n",
       "                에이미랩스의 단점은? (상단 분석 리포트 이미지 참고) 에이미랩스를 주변 지인에게 추천할 의향이 있으신가요?  \\\n",
       "0                                          NaN                           NaN   \n",
       "1                                  영양제 추천이 부실함                             예   \n",
       "2  영양제 분석 리포트를 제공받기 위한 사전설문이 부실함, 화면 구성이 불편해보임                           아니오   \n",
       "3                영양제 분석 리포트를 제공받기 위한 사전설문이 부실함                           아니오   \n",
       "4          영양제 분석 리포트를 제공받기 위한 사전설문에 상당 시간 소요됨                             예   \n",
       "\n",
       "            추천 의향이 있는 이유는?                    추천 의향이 없는 이유는?  \\\n",
       "0                      NaN                               NaN   \n",
       "1  제품 추천 시 뜨는 '약사의 Tip' 설명  예' 선택함, 홈페이지 기능 부족으로 인해 신뢰하기 어려움   \n",
       "2                 아니오' 선택함          홈페이지 기능 부족으로 인해 신뢰하기 어려움   \n",
       "3                 아니오' 선택함          홈페이지 기능 부족으로 인해 신뢰하기 어려움   \n",
       "4                 아니오' 선택함                            예' 선택함   \n",
       "\n",
       "  해당 플랫폼에 분석 또는 건강보험공단 및 의료기관과의 협업을 위한 건강검진 정보를 제공해야 한다면 제공할 의향이 있으십니까?  \\\n",
       "0                                                NaN                      \n",
       "1                                                  예                      \n",
       "2                                                  예                      \n",
       "3                                                  예                      \n",
       "4                                                  예                      \n",
       "\n",
       "              추후에 에이미랩스를 실제로 사용할 기회가 생긴다면 얻고 싶은 정보는?  \\\n",
       "0                                                NaN   \n",
       "1  부족한 또는 보충이 필요한 영양성분에 대한 정보, 연령, 수면패턴, 음주횟수, 출산...   \n",
       "2  부족한 또는 보충이 필요한 영양성분에 대한 정보, 연령, 수면패턴, 음주횟수, 출산...   \n",
       "3                         부족한 또는 보충이 필요한 영양성분에 대한 정보   \n",
       "4                         부족한 또는 보충이 필요한 영양성분에 대한 정보   \n",
       "\n",
       "   에이미랩스의 영양제 분석 리포트에 추가로 포함되었으면 하는 내용이 있으십니까?  에이미랩스에 새롭게 제안하실 내용이 있으십니까?  \n",
       "0                                          NaN                         NaN  \n",
       "1                                          NaN                         NaN  \n",
       "2                                      부작용 요소                          NaN  \n",
       "3                                          NaN                         NaN  \n",
       "4                                          NaN                         NaN  \n",
       "\n",
       "[5 rows x 31 columns]"
      ]
     },
     "execution_count": 6,
     "metadata": {},
     "output_type": "execute_result"
    }
   ],
   "source": [
    "print(dat.shape)\n",
    "dat.head()"
   ]
  },
  {
   "cell_type": "code",
   "execution_count": 7,
   "metadata": {
    "colab": {
     "base_uri": "https://localhost:8080/"
    },
    "id": "iky7ycZHGf2X",
    "outputId": "92247330-2b82-443f-dd02-ef9b1e668c66"
   },
   "outputs": [
    {
     "name": "stdout",
     "output_type": "stream",
     "text": [
      "31\n"
     ]
    }
   ],
   "source": [
    "dat.columns = ['타임스탬프', '성별', '연령대', '운동',\n",
    "               '중요도_크기', '중요도_냄새', '중요도_제형', '중요도_성분', '중요도_가격', '중요도_함량', '중요도_입소문',\n",
    "               '구입경로', '섭취빈도', '섭취종류의개수', '섭취종류', '미섭취이유', '플랫폼 인지 여부', '플랫폼 제공 희망 콘텐츠', \n",
    "               '유용정도_분석리포트총점', '유용정도_섭취목적별영양제분석', '유용정도_전체영양소분석', '유용정도_추천영양제',\n",
    "               '장점', '단점', '추천 의향', '추천 의향 이유_예', '추천 의향 이유_아니오', '개인정보 제공 여부', '추후 얻고 싶은 정보',\n",
    "               '추가로 포함되었으면 하는 내용', '새롭게 제안하실 내용']\n",
    "\n",
    "print(len(dat.columns))"
   ]
  },
  {
   "cell_type": "code",
   "execution_count": 8,
   "metadata": {
    "colab": {
     "base_uri": "https://localhost:8080/",
     "height": 644
    },
    "id": "QVOSGRBi-1qi",
    "outputId": "b6ab5acc-ba11-42d8-8d03-caad5ebff16f"
   },
   "outputs": [
    {
     "data": {
      "text/html": [
       "<div>\n",
       "<style scoped>\n",
       "    .dataframe tbody tr th:only-of-type {\n",
       "        vertical-align: middle;\n",
       "    }\n",
       "\n",
       "    .dataframe tbody tr th {\n",
       "        vertical-align: top;\n",
       "    }\n",
       "\n",
       "    .dataframe thead th {\n",
       "        text-align: right;\n",
       "    }\n",
       "</style>\n",
       "<table border=\"1\" class=\"dataframe\">\n",
       "  <thead>\n",
       "    <tr style=\"text-align: right;\">\n",
       "      <th></th>\n",
       "      <th>타임스탬프</th>\n",
       "      <th>성별</th>\n",
       "      <th>연령대</th>\n",
       "      <th>운동</th>\n",
       "      <th>중요도_크기</th>\n",
       "      <th>중요도_냄새</th>\n",
       "      <th>중요도_제형</th>\n",
       "      <th>중요도_성분</th>\n",
       "      <th>중요도_가격</th>\n",
       "      <th>중요도_함량</th>\n",
       "      <th>...</th>\n",
       "      <th>유용정도_추천영양제</th>\n",
       "      <th>장점</th>\n",
       "      <th>단점</th>\n",
       "      <th>추천 의향</th>\n",
       "      <th>추천 의향 이유_예</th>\n",
       "      <th>추천 의향 이유_아니오</th>\n",
       "      <th>개인정보 제공 여부</th>\n",
       "      <th>추후 얻고 싶은 정보</th>\n",
       "      <th>추가로 포함되었으면 하는 내용</th>\n",
       "      <th>새롭게 제안하실 내용</th>\n",
       "    </tr>\n",
       "  </thead>\n",
       "  <tbody>\n",
       "    <tr>\n",
       "      <th>1</th>\n",
       "      <td>2023-02-05 1:46</td>\n",
       "      <td>남</td>\n",
       "      <td>30대</td>\n",
       "      <td>헬스</td>\n",
       "      <td>1.0</td>\n",
       "      <td>2.0</td>\n",
       "      <td>2.0</td>\n",
       "      <td>3.0</td>\n",
       "      <td>3.0</td>\n",
       "      <td>3.0</td>\n",
       "      <td>...</td>\n",
       "      <td>3.0</td>\n",
       "      <td>간단한 설문만으로도 영양제 분석 및 추천 서비스를 받을 수 있음, 영양제 섭취 습관...</td>\n",
       "      <td>영양제 추천이 부실함</td>\n",
       "      <td>예</td>\n",
       "      <td>제품 추천 시 뜨는 '약사의 Tip' 설명</td>\n",
       "      <td>예' 선택함, 홈페이지 기능 부족으로 인해 신뢰하기 어려움</td>\n",
       "      <td>예</td>\n",
       "      <td>부족한 또는 보충이 필요한 영양성분에 대한 정보, 연령, 수면패턴, 음주횟수, 출산...</td>\n",
       "      <td>NaN</td>\n",
       "      <td>NaN</td>\n",
       "    </tr>\n",
       "    <tr>\n",
       "      <th>2</th>\n",
       "      <td>2023-02-05 1:50</td>\n",
       "      <td>여</td>\n",
       "      <td>20대</td>\n",
       "      <td>필라테스/요가</td>\n",
       "      <td>4.0</td>\n",
       "      <td>3.0</td>\n",
       "      <td>3.0</td>\n",
       "      <td>4.0</td>\n",
       "      <td>3.0</td>\n",
       "      <td>3.0</td>\n",
       "      <td>...</td>\n",
       "      <td>2.0</td>\n",
       "      <td>부족한 영양성분 파악 가능</td>\n",
       "      <td>영양제 분석 리포트를 제공받기 위한 사전설문이 부실함, 화면 구성이 불편해보임</td>\n",
       "      <td>아니오</td>\n",
       "      <td>아니오' 선택함</td>\n",
       "      <td>홈페이지 기능 부족으로 인해 신뢰하기 어려움</td>\n",
       "      <td>예</td>\n",
       "      <td>부족한 또는 보충이 필요한 영양성분에 대한 정보, 연령, 수면패턴, 음주횟수, 출산...</td>\n",
       "      <td>부작용 요소</td>\n",
       "      <td>NaN</td>\n",
       "    </tr>\n",
       "    <tr>\n",
       "      <th>3</th>\n",
       "      <td>2023-02-05 1:53</td>\n",
       "      <td>남</td>\n",
       "      <td>30대</td>\n",
       "      <td>헬스</td>\n",
       "      <td>2.0</td>\n",
       "      <td>4.0</td>\n",
       "      <td>2.0</td>\n",
       "      <td>4.0</td>\n",
       "      <td>4.0</td>\n",
       "      <td>4.0</td>\n",
       "      <td>...</td>\n",
       "      <td>3.0</td>\n",
       "      <td>영양제 섭취 습관에 대한 개인 맞춤형 분석 제공</td>\n",
       "      <td>영양제 분석 리포트를 제공받기 위한 사전설문이 부실함</td>\n",
       "      <td>아니오</td>\n",
       "      <td>아니오' 선택함</td>\n",
       "      <td>홈페이지 기능 부족으로 인해 신뢰하기 어려움</td>\n",
       "      <td>예</td>\n",
       "      <td>부족한 또는 보충이 필요한 영양성분에 대한 정보</td>\n",
       "      <td>NaN</td>\n",
       "      <td>NaN</td>\n",
       "    </tr>\n",
       "    <tr>\n",
       "      <th>4</th>\n",
       "      <td>2023-02-05 6:22</td>\n",
       "      <td>여</td>\n",
       "      <td>30대</td>\n",
       "      <td>필라테스/요가</td>\n",
       "      <td>4.0</td>\n",
       "      <td>4.0</td>\n",
       "      <td>4.0</td>\n",
       "      <td>2.0</td>\n",
       "      <td>4.0</td>\n",
       "      <td>4.0</td>\n",
       "      <td>...</td>\n",
       "      <td>5.0</td>\n",
       "      <td>직관적이고 간편한 화면 구성</td>\n",
       "      <td>영양제 분석 리포트를 제공받기 위한 사전설문에 상당 시간 소요됨</td>\n",
       "      <td>예</td>\n",
       "      <td>아니오' 선택함</td>\n",
       "      <td>예' 선택함</td>\n",
       "      <td>예</td>\n",
       "      <td>부족한 또는 보충이 필요한 영양성분에 대한 정보</td>\n",
       "      <td>NaN</td>\n",
       "      <td>NaN</td>\n",
       "    </tr>\n",
       "    <tr>\n",
       "      <th>5</th>\n",
       "      <td>2023-02-05 9:30</td>\n",
       "      <td>여</td>\n",
       "      <td>20대</td>\n",
       "      <td>없음</td>\n",
       "      <td>4.0</td>\n",
       "      <td>4.0</td>\n",
       "      <td>3.0</td>\n",
       "      <td>3.0</td>\n",
       "      <td>3.0</td>\n",
       "      <td>3.0</td>\n",
       "      <td>...</td>\n",
       "      <td>3.0</td>\n",
       "      <td>간단한 설문만으로도 영양제 분석 및 추천 서비스를 받을 수 있음</td>\n",
       "      <td>영양제 추천이 부실함</td>\n",
       "      <td>예</td>\n",
       "      <td>제품 추천 시 뜨는 '약사의 Tip' 설명</td>\n",
       "      <td>예' 선택함</td>\n",
       "      <td>예</td>\n",
       "      <td>부족한 또는 보충이 필요한 영양성분에 대한 정보, 연령, 수면패턴, 음주횟수, 출산...</td>\n",
       "      <td>NaN</td>\n",
       "      <td>NaN</td>\n",
       "    </tr>\n",
       "  </tbody>\n",
       "</table>\n",
       "<p>5 rows × 31 columns</p>\n",
       "</div>"
      ],
      "text/plain": [
       "             타임스탬프 성별  연령대       운동  중요도_크기  중요도_냄새  중요도_제형  중요도_성분  중요도_가격  \\\n",
       "1  2023-02-05 1:46  남  30대       헬스     1.0     2.0     2.0     3.0     3.0   \n",
       "2  2023-02-05 1:50  여  20대  필라테스/요가     4.0     3.0     3.0     4.0     3.0   \n",
       "3  2023-02-05 1:53  남  30대       헬스     2.0     4.0     2.0     4.0     4.0   \n",
       "4  2023-02-05 6:22  여  30대  필라테스/요가     4.0     4.0     4.0     2.0     4.0   \n",
       "5  2023-02-05 9:30  여  20대       없음     4.0     4.0     3.0     3.0     3.0   \n",
       "\n",
       "   중요도_함량  ...  유용정도_추천영양제                                                 장점  \\\n",
       "1     3.0  ...         3.0  간단한 설문만으로도 영양제 분석 및 추천 서비스를 받을 수 있음, 영양제 섭취 습관...   \n",
       "2     3.0  ...         2.0                                     부족한 영양성분 파악 가능   \n",
       "3     4.0  ...         3.0                         영양제 섭취 습관에 대한 개인 맞춤형 분석 제공   \n",
       "4     4.0  ...         5.0                                    직관적이고 간편한 화면 구성   \n",
       "5     3.0  ...         3.0                간단한 설문만으로도 영양제 분석 및 추천 서비스를 받을 수 있음   \n",
       "\n",
       "                                            단점 추천 의향               추천 의향 이유_예  \\\n",
       "1                                  영양제 추천이 부실함     예  제품 추천 시 뜨는 '약사의 Tip' 설명   \n",
       "2  영양제 분석 리포트를 제공받기 위한 사전설문이 부실함, 화면 구성이 불편해보임   아니오                 아니오' 선택함   \n",
       "3                영양제 분석 리포트를 제공받기 위한 사전설문이 부실함   아니오                 아니오' 선택함   \n",
       "4          영양제 분석 리포트를 제공받기 위한 사전설문에 상당 시간 소요됨     예                 아니오' 선택함   \n",
       "5                                  영양제 추천이 부실함     예  제품 추천 시 뜨는 '약사의 Tip' 설명   \n",
       "\n",
       "                       추천 의향 이유_아니오 개인정보 제공 여부  \\\n",
       "1  예' 선택함, 홈페이지 기능 부족으로 인해 신뢰하기 어려움          예   \n",
       "2          홈페이지 기능 부족으로 인해 신뢰하기 어려움          예   \n",
       "3          홈페이지 기능 부족으로 인해 신뢰하기 어려움          예   \n",
       "4                            예' 선택함          예   \n",
       "5                            예' 선택함          예   \n",
       "\n",
       "                                         추후 얻고 싶은 정보  추가로 포함되었으면 하는 내용  \\\n",
       "1  부족한 또는 보충이 필요한 영양성분에 대한 정보, 연령, 수면패턴, 음주횟수, 출산...               NaN   \n",
       "2  부족한 또는 보충이 필요한 영양성분에 대한 정보, 연령, 수면패턴, 음주횟수, 출산...           부작용 요소    \n",
       "3                         부족한 또는 보충이 필요한 영양성분에 대한 정보               NaN   \n",
       "4                         부족한 또는 보충이 필요한 영양성분에 대한 정보               NaN   \n",
       "5  부족한 또는 보충이 필요한 영양성분에 대한 정보, 연령, 수면패턴, 음주횟수, 출산...               NaN   \n",
       "\n",
       "   새롭게 제안하실 내용  \n",
       "1          NaN  \n",
       "2          NaN  \n",
       "3          NaN  \n",
       "4          NaN  \n",
       "5          NaN  \n",
       "\n",
       "[5 rows x 31 columns]"
      ]
     },
     "execution_count": 8,
     "metadata": {},
     "output_type": "execute_result"
    }
   ],
   "source": [
    "dat.drop(0, axis = 0, inplace = True)\n",
    "dat.head()"
   ]
  },
  {
   "cell_type": "markdown",
   "metadata": {
    "id": "uiTnigZQFu7J"
   },
   "source": [
    "**성별 응답자 비율**"
   ]
  },
  {
   "cell_type": "code",
   "execution_count": 9,
   "metadata": {
    "colab": {
     "base_uri": "https://localhost:8080/",
     "height": 411
    },
    "id": "elyOtmdvDEAI",
    "outputId": "f9d1c63b-4678-491c-e3aa-e5da3e90bc86"
   },
   "outputs": [
    {
     "data": {
      "text/plain": [
       "<AxesSubplot:ylabel='None'>"
      ]
     },
     "execution_count": 9,
     "metadata": {},
     "output_type": "execute_result"
    },
    {
     "data": {
      "image/png": "[encoded data removed]",
      "text/plain": [
       "<Figure size 432x288 with 1 Axes>"
      ]
     },
     "metadata": {},
     "output_type": "display_data"
    }
   ],
   "source": [
    "dat_count = dat.groupby(['성별']).size()\n",
    "dat_count.plot.pie(y = '타임스탬프')"
   ]
  },
  {
   "cell_type": "code",
   "execution_count": 10,
   "metadata": {
    "colab": {
     "base_uri": "https://localhost:8080/",
     "height": 466
    },
    "id": "eoNRN1YzInH0",
    "outputId": "ceadb8b7-8e62-4718-9e4e-2f8ff4afdd6e"
   },
   "outputs": [
    {
     "data": {
      "text/plain": [
       "<AxesSubplot:ylabel='None'>"
      ]
     },
     "execution_count": 10,
     "metadata": {},
     "output_type": "execute_result"
    },
    {
     "data": {
      "image/png": "[encoded data removed]",
      "text/plain": [
       "<Figure size 432x288 with 1 Axes>"
      ]
     },
     "metadata": {},
     "output_type": "display_data"
    }
   ],
   "source": [
    "dat_count = dat.groupby(['연령대']).size()\n",
    "dat_count.plot.pie(y = '타임스탬프')"
   ]
  },
  {
   "cell_type": "code",
   "execution_count": 11,
   "metadata": {
    "colab": {
     "base_uri": "https://localhost:8080/",
     "height": 1000
    },
    "id": "VJ5J3XDcaMyE",
    "outputId": "e38797ef-7abb-4394-d46b-a689b3e01c8f"
   },
   "outputs": [
    {
     "data": {
      "text/plain": [
       "<AxesSubplot:>"
      ]
     },
     "execution_count": 11,
     "metadata": {},
     "output_type": "execute_result"
    },
    {
     "data": {
      "image/png": "[encoded data removed]",
      "text/plain": [
       "<Figure size 432x288 with 1 Axes>"
      ]
     },
     "metadata": {
      "needs_background": "light"
     },
     "output_type": "display_data"
    }
   ],
   "source": [
    "dat_count = dat['운동'].value_counts()\n",
    "dat_count.plot.bar()"
   ]
  },
  {
   "cell_type": "markdown",
   "metadata": {},
   "source": [
    "**타겟층이 생각하는 영양제의 중요도**"
   ]
  },
  {
   "cell_type": "code",
   "execution_count": 12,
   "metadata": {},
   "outputs": [
    {
     "data": {
      "text/plain": [
       "Index(['타임스탬프', '성별', '연령대', '운동', '중요도_크기', '중요도_냄새', '중요도_제형', '중요도_성분',\n",
       "       '중요도_가격', '중요도_함량', '중요도_입소문', '구입경로', '섭취빈도', '섭취종류의개수', '섭취종류',\n",
       "       '미섭취이유', '플랫폼 인지 여부', '플랫폼 제공 희망 콘텐츠', '유용정도_분석리포트총점',\n",
       "       '유용정도_섭취목적별영양제분석', '유용정도_전체영양소분석', '유용정도_추천영양제', '장점', '단점', '추천 의향',\n",
       "       '추천 의향 이유_예', '추천 의향 이유_아니오', '개인정보 제공 여부', '추후 얻고 싶은 정보',\n",
       "       '추가로 포함되었으면 하는 내용', '새롭게 제안하실 내용'],\n",
       "      dtype='object')"
      ]
     },
     "execution_count": 12,
     "metadata": {},
     "output_type": "execute_result"
    }
   ],
   "source": [
    "dat.columns"
   ]
  },
  {
   "cell_type": "code",
   "execution_count": 13,
   "metadata": {},
   "outputs": [],
   "source": [
    "dat_impt = dat.loc[:, ['중요도_크기', '중요도_냄새', '중요도_제형', '중요도_성분', '중요도_가격', '중요도_함량', '중요도_입소문']]"
   ]
  },
  {
   "cell_type": "code",
   "execution_count": 44,
   "metadata": {},
   "outputs": [],
   "source": [
    "dat_3040w = dat.loc[(dat['성별'] == '여') & (dat['연령대'] == '30대') | (dat['성별'] == '여') & (dat['연령대'] == '40대'),\n",
    "                    ['중요도_크기', '중요도_냄새', '중요도_제형', '중요도_성분', '중요도_가격', '중요도_함량', '중요도_입소문']]"
   ]
  },
  {
   "cell_type": "code",
   "execution_count": 67,
   "metadata": {},
   "outputs": [
    {
     "data": {
      "text/plain": [
       "<AxesSubplot:xlabel='중요도_크기', ylabel='Density'>"
      ]
     },
     "execution_count": 67,
     "metadata": {},
     "output_type": "execute_result"
    },
    {
     "data": {
      "image/png": "[encoded data removed]",
      "text/plain": [
       "<Figure size 432x288 with 1 Axes>"
      ]
     },
     "metadata": {
      "needs_background": "light"
     },
     "output_type": "display_data"
    }
   ],
   "source": [
    "sns.distplot(dat_3040w['중요도_크기'], bins = 7)"
   ]
  },
  {
   "cell_type": "code",
   "execution_count": null,
   "metadata": {},
   "outputs": [],
   "source": [
    "sns.barplot(x=\"tip\", y=\"total_bill\", data=dat_3040w, palette='Reds')"
   ]
  },
  {
   "cell_type": "code",
   "execution_count": 63,
   "metadata": {},
   "outputs": [
    {
     "ename": "IndexError",
     "evalue": "index 2 is out of bounds for axis 0 with size 2",
     "output_type": "error",
     "traceback": [
      "\u001b[1;31m---------------------------------------------------------------------------\u001b[0m",
      "\u001b[1;31mIndexError\u001b[0m                                Traceback (most recent call last)",
      "\u001b[1;32m<ipython-input-63-ebc50ff4f330>\u001b[0m in \u001b[0;36m<module>\u001b[1;34m\u001b[0m\n\u001b[0;32m      5\u001b[0m \u001b[0msns\u001b[0m\u001b[1;33m.\u001b[0m\u001b[0mdistplot\u001b[0m\u001b[1;33m(\u001b[0m\u001b[0mdat_3040w\u001b[0m\u001b[1;33m[\u001b[0m\u001b[1;34m'중요도_제형'\u001b[0m\u001b[1;33m]\u001b[0m\u001b[1;33m,\u001b[0m \u001b[0max\u001b[0m\u001b[1;33m=\u001b[0m\u001b[0max\u001b[0m\u001b[1;33m[\u001b[0m\u001b[1;36m1\u001b[0m\u001b[1;33m,\u001b[0m\u001b[1;36m0\u001b[0m\u001b[1;33m]\u001b[0m\u001b[1;33m)\u001b[0m\u001b[1;33m\u001b[0m\u001b[1;33m\u001b[0m\u001b[0m\n\u001b[0;32m      6\u001b[0m \u001b[0msns\u001b[0m\u001b[1;33m.\u001b[0m\u001b[0mdistplot\u001b[0m\u001b[1;33m(\u001b[0m\u001b[0mdat_3040w\u001b[0m\u001b[1;33m[\u001b[0m\u001b[1;34m'중요도_성분'\u001b[0m\u001b[1;33m]\u001b[0m\u001b[1;33m,\u001b[0m \u001b[0max\u001b[0m\u001b[1;33m=\u001b[0m\u001b[0max\u001b[0m\u001b[1;33m[\u001b[0m\u001b[1;36m1\u001b[0m\u001b[1;33m,\u001b[0m\u001b[1;36m1\u001b[0m\u001b[1;33m]\u001b[0m\u001b[1;33m)\u001b[0m\u001b[1;33m\u001b[0m\u001b[1;33m\u001b[0m\u001b[0m\n\u001b[1;32m----> 7\u001b[1;33m \u001b[0msns\u001b[0m\u001b[1;33m.\u001b[0m\u001b[0mdistplot\u001b[0m\u001b[1;33m(\u001b[0m\u001b[0mdat_3040w\u001b[0m\u001b[1;33m[\u001b[0m\u001b[1;34m'중요도_가격'\u001b[0m\u001b[1;33m]\u001b[0m\u001b[1;33m,\u001b[0m \u001b[0max\u001b[0m\u001b[1;33m=\u001b[0m\u001b[0max\u001b[0m\u001b[1;33m[\u001b[0m\u001b[1;36m2\u001b[0m\u001b[1;33m,\u001b[0m\u001b[1;36m0\u001b[0m\u001b[1;33m]\u001b[0m\u001b[1;33m)\u001b[0m\u001b[1;33m\u001b[0m\u001b[1;33m\u001b[0m\u001b[0m\n\u001b[0m\u001b[0;32m      8\u001b[0m \u001b[0msns\u001b[0m\u001b[1;33m.\u001b[0m\u001b[0mdistplot\u001b[0m\u001b[1;33m(\u001b[0m\u001b[0mdat_3040w\u001b[0m\u001b[1;33m[\u001b[0m\u001b[1;34m'중요도_함량'\u001b[0m\u001b[1;33m]\u001b[0m\u001b[1;33m,\u001b[0m \u001b[0max\u001b[0m\u001b[1;33m=\u001b[0m\u001b[0max\u001b[0m\u001b[1;33m[\u001b[0m\u001b[1;36m2\u001b[0m\u001b[1;33m,\u001b[0m\u001b[1;36m1\u001b[0m\u001b[1;33m]\u001b[0m\u001b[1;33m)\u001b[0m\u001b[1;33m\u001b[0m\u001b[1;33m\u001b[0m\u001b[0m\n\u001b[0;32m      9\u001b[0m \u001b[1;31m# sns.distplot(dat_3040w['중요도_입소문'], ax=ax[3,1])\u001b[0m\u001b[1;33m\u001b[0m\u001b[1;33m\u001b[0m\u001b[1;33m\u001b[0m\u001b[0m\n",
      "\u001b[1;31mIndexError\u001b[0m: index 2 is out of bounds for axis 0 with size 2"
     ]
    },
    {
     "data": {
      "image/png": "[encoded data removed]",
      "text/plain": [
       "<Figure size 432x288 with 8 Axes>"
      ]
     },
     "metadata": {
      "needs_background": "light"
     },
     "output_type": "display_data"
    }
   ],
   "source": [
    "fig, ax = plt.subplots(nrows = 2, ncols = 4)\n",
    "\n",
    "sns.distplot(dat_3040w['중요도_크기'], ax=ax[0,0])\n",
    "sns.distplot(dat_3040w['중요도_냄새'], ax=ax[0,1])\n",
    "sns.distplot(dat_3040w['중요도_제형'], ax=ax[1,0])\n",
    "sns.distplot(dat_3040w['중요도_성분'], ax=ax[1,1])\n",
    "sns.distplot(dat_3040w['중요도_가격'], ax=ax[2,0])\n",
    "sns.distplot(dat_3040w['중요도_함량'], ax=ax[2,1])\n",
    "# sns.distplot(dat_3040w['중요도_입소문'], ax=ax[3,1])"
   ]
  },
  {
   "cell_type": "code",
   "execution_count": 59,
   "metadata": {},
   "outputs": [
    {
     "data": {
      "text/plain": [
       "array([[<AxesSubplot:title={'center':'중요도_크기'}>,\n",
       "        <AxesSubplot:title={'center':'중요도_냄새'}>,\n",
       "        <AxesSubplot:title={'center':'중요도_제형'}>],\n",
       "       [<AxesSubplot:title={'center':'중요도_성분'}>,\n",
       "        <AxesSubplot:title={'center':'중요도_가격'}>,\n",
       "        <AxesSubplot:title={'center':'중요도_함량'}>],\n",
       "       [<AxesSubplot:title={'center':'중요도_입소문'}>, <AxesSubplot:>,\n",
       "        <AxesSubplot:>]], dtype=object)"
      ]
     },
     "execution_count": 59,
     "metadata": {},
     "output_type": "execute_result"
    },
    {
     "data": {
      "image/png": "[encoded data removed]",
      "text/plain": [
       "<Figure size 432x288 with 9 Axes>"
      ]
     },
     "metadata": {
      "needs_background": "light"
     },
     "output_type": "display_data"
    }
   ],
   "source": [
    "dat_3040w.hist()"
   ]
  },
  {
   "cell_type": "code",
   "execution_count": 56,
   "metadata": {
    "scrolled": true
   },
   "outputs": [
    {
     "data": {
      "text/plain": [
       "<AxesSubplot:>"
      ]
     },
     "execution_count": 56,
     "metadata": {},
     "output_type": "execute_result"
    },
    {
     "data": {
      "image/png": "[encoded data removed]",
      "text/plain": [
       "<Figure size 432x288 with 1 Axes>"
      ]
     },
     "metadata": {
      "needs_background": "light"
     },
     "output_type": "display_data"
    }
   ],
   "source": [
    "# dat_count = dat['운동'].value_counts()\n",
    "dat_3040w.plot.bar()"
   ]
  },
  {
   "cell_type": "code",
   "execution_count": 47,
   "metadata": {},
   "outputs": [
    {
     "data": {
      "text/plain": [
       "array([ 0,  1,  2,  3,  4,  5,  6,  7,  8,  9, 10, 11, 12])"
      ]
     },
     "execution_count": 47,
     "metadata": {},
     "output_type": "execute_result"
    }
   ],
   "source": [
    "w = 0.15\n",
    "nrow = dat_3040w.shape[0] # 행의 갯수\n",
    "idx = np.arange(nrow) #행의 갯수를 리스트로\n",
    "idx"
   ]
  },
  {
   "cell_type": "code",
   "execution_count": null,
   "metadata": {},
   "outputs": [],
   "source": []
  },
  {
   "cell_type": "code",
   "execution_count": null,
   "metadata": {},
   "outputs": [],
   "source": []
  },
  {
   "cell_type": "markdown",
   "metadata": {
    "id": "6LqPiznNjuds"
   },
   "source": [
    "**영양제의 종류 워드클라우드**"
   ]
  },
  {
   "cell_type": "code",
   "execution_count": 15,
   "metadata": {
    "id": "vhzcR6Uxkczr"
   },
   "outputs": [],
   "source": [
    "# pip install konlpy"
   ]
  },
  {
   "cell_type": "code",
   "execution_count": 16,
   "metadata": {},
   "outputs": [],
   "source": [
    "# pip install wordcloud"
   ]
  },
  {
   "cell_type": "code",
   "execution_count": 17,
   "metadata": {
    "id": "JvffYw1nj_y3"
   },
   "outputs": [],
   "source": [
    "from wordcloud import WordCloud\n",
    "import matplotlib.pyplot as plt\n",
    "from collections import Counter\n",
    "import konlpy\n",
    "from konlpy.tag import Okt\n",
    "from PIL import Image\n",
    "import numpy as np"
   ]
  },
  {
   "cell_type": "code",
   "execution_count": 18,
   "metadata": {},
   "outputs": [
    {
     "data": {
      "text/plain": [
       "15                              비타민\n",
       "16                          철분 비타민c\n",
       "17                            종합비타민\n",
       "18                   오메가3 종합비타민 루테인\n",
       "19                              비타민\n",
       "                  ...              \n",
       "95                             비타민C\n",
       "96    오메가3, 종합비타민, 밀크씨슬, 글루타치온, 루테인\n",
       "97                         유산균 비타민C\n",
       "98                               없음\n",
       "99                               없음\n",
       "Name: 섭취종류, Length: 85, dtype: object"
      ]
     },
     "execution_count": 18,
     "metadata": {},
     "output_type": "execute_result"
    }
   ],
   "source": [
    "dat1 = dat['섭취종류'].dropna()\n",
    "dat1"
   ]
  },
  {
   "cell_type": "code",
   "execution_count": 19,
   "metadata": {},
   "outputs": [
    {
     "name": "stdout",
     "output_type": "stream",
     "text": [
      "['비타민', '철분', '비타민c', '종합비타민', '오메가3', '종합비타민', '루테인', '비타민', '비타민c', '비타민', '타우린', '비타민D', '종합비타민/오메가c', '없음', '없음', '비타민/유산균', '비타민D', '종합비타민', '실리마린', '오메가3', '없음', '종합비타민', '비타민c', '', '홍삼', '비타민', '비타민', '종합비타민', '없음', '칼슘', '비티만c', '종합비타민', '비타민', '질유산균', '없음', '없음', '없음', '오메가3', '유산균', '프로폴이스', '종합비타민', '종합비타민', '마그네슘', '없음', '없음', '종합비타민', '비타민', 'b', 'c', '오메가3', '유산균', '종합비타민B', '', '비타민', '위주', '홍삼', '셀티아이', '정관장', '임팩타민', '종합비타민', '오메가3', '비타민D', '비타민', '없음', '비타민', '', '밀크시슬', '없음', '비맥스', '종합비타민', '루테인', '글루타치온', '비타민', '밀크씨슬', '없음', '밀크시슬', '오메가3', '멀티비타민', '유산균', '잇몸약', '비타민', '씨', '오메가3', '없음', '프로바이오틱스', '없음', '유사나', '암웨이', '종합비타민', '오메가3', '아르기닌', '비타민D', '없음', '없음', '비타민', '유산균', '콜라겐', '마그네슘', '', '비타민', '없음', '오메가3', '밀크씨슬', '종합비타민', '없음', 'ㅠㅠ', '종합비타민', '없음', '없음', '비타민C', '오메가3', '유산균', '비타민C', '없음', '없음']\n"
     ]
    }
   ],
   "source": [
    "results = []\n",
    "\n",
    "for x in dat1 :\n",
    "    result = x.split(',')[0]\n",
    "    result = result.split(' ')\n",
    "    for y in result :\n",
    "        results.append(y)\n",
    "\n",
    "print(results)"
   ]
  },
  {
   "cell_type": "code",
   "execution_count": 20,
   "metadata": {
    "id": "qzNxLDDopILa"
   },
   "outputs": [],
   "source": [
    "words = [n for n in results if len(n) > 1]"
   ]
  },
  {
   "cell_type": "code",
   "execution_count": 21,
   "metadata": {
    "colab": {
     "base_uri": "https://localhost:8080/"
    },
    "id": "9qEaaWCdpYAP",
    "outputId": "554bedc1-48f7-4fee-a7dc-209dc31b0abc"
   },
   "outputs": [],
   "source": [
    "c = Counter(words)"
   ]
  },
  {
   "cell_type": "code",
   "execution_count": 22,
   "metadata": {
    "colab": {
     "base_uri": "https://localhost:8080/",
     "height": 378
    },
    "id": "7ZeQdZJZaNye",
    "outputId": "a140bf22-4189-4aed-8c2b-1abcb0edd8ba"
   },
   "outputs": [
    {
     "data": {
      "text/plain": [
       "<matplotlib.image.AxesImage at 0x20ec234a970>"
      ]
     },
     "execution_count": 22,
     "metadata": {},
     "output_type": "execute_result"
    },
    {
     "data": {
      "image/png": "[encoded data removed]",
      "text/plain": [
       "<Figure size 432x288 with 1 Axes>"
      ]
     },
     "metadata": {
      "needs_background": "light"
     },
     "output_type": "display_data"
    }
   ],
   "source": [
    "wc = WordCloud(font_path='C:/Windows/Fonts/malgun.ttf', width=400, height=400, scale=2.0, max_font_size=250)\n",
    "gen = wc.generate_from_frequencies(c)\n",
    "plt.figure()\n",
    "plt.imshow(gen)"
   ]
  },
  {
   "cell_type": "markdown",
   "metadata": {
    "id": "s2jW5GAHpgEt"
   },
   "source": [
    "**긍정 의견**"
   ]
  },
  {
   "cell_type": "code",
   "execution_count": 23,
   "metadata": {
    "id": "bFSrxGN6pf_z"
   },
   "outputs": [
    {
     "data": {
      "text/plain": [
       "Index(['타임스탬프', '성별', '연령대', '운동', '중요도_크기', '중요도_냄새', '중요도_제형', '중요도_성분',\n",
       "       '중요도_가격', '중요도_함량', '중요도_입소문', '구입경로', '섭취빈도', '섭취종류의개수', '섭취종류',\n",
       "       '미섭취이유', '플랫폼 인지 여부', '플랫폼 제공 희망 콘텐츠', '유용정도_분석리포트총점',\n",
       "       '유용정도_섭취목적별영양제분석', '유용정도_전체영양소분석', '유용정도_추천영양제', '장점', '단점', '추천 의향',\n",
       "       '추천 의향 이유_예', '추천 의향 이유_아니오', '개인정보 제공 여부', '추후 얻고 싶은 정보',\n",
       "       '추가로 포함되었으면 하는 내용', '새롭게 제안하실 내용'],\n",
       "      dtype='object')"
      ]
     },
     "execution_count": 23,
     "metadata": {},
     "output_type": "execute_result"
    }
   ],
   "source": [
    "dat.columns"
   ]
  },
  {
   "cell_type": "code",
   "execution_count": 24,
   "metadata": {},
   "outputs": [
    {
     "data": {
      "text/html": [
       "<div>\n",
       "<style scoped>\n",
       "    .dataframe tbody tr th:only-of-type {\n",
       "        vertical-align: middle;\n",
       "    }\n",
       "\n",
       "    .dataframe tbody tr th {\n",
       "        vertical-align: top;\n",
       "    }\n",
       "\n",
       "    .dataframe thead th {\n",
       "        text-align: right;\n",
       "    }\n",
       "</style>\n",
       "<table border=\"1\" class=\"dataframe\">\n",
       "  <thead>\n",
       "    <tr style=\"text-align: right;\">\n",
       "      <th></th>\n",
       "      <th>장점</th>\n",
       "    </tr>\n",
       "  </thead>\n",
       "  <tbody>\n",
       "    <tr>\n",
       "      <th>1</th>\n",
       "      <td>간단한 설문만으로도 영양제 분석 및 추천 서비스를 받을 수 있음, 영양제 섭취 습관...</td>\n",
       "    </tr>\n",
       "    <tr>\n",
       "      <th>2</th>\n",
       "      <td>부족한 영양성분 파악 가능</td>\n",
       "    </tr>\n",
       "    <tr>\n",
       "      <th>3</th>\n",
       "      <td>영양제 섭취 습관에 대한 개인 맞춤형 분석 제공</td>\n",
       "    </tr>\n",
       "    <tr>\n",
       "      <th>4</th>\n",
       "      <td>직관적이고 간편한 화면 구성</td>\n",
       "    </tr>\n",
       "    <tr>\n",
       "      <th>5</th>\n",
       "      <td>간단한 설문만으로도 영양제 분석 및 추천 서비스를 받을 수 있음</td>\n",
       "    </tr>\n",
       "    <tr>\n",
       "      <th>...</th>\n",
       "      <td>...</td>\n",
       "    </tr>\n",
       "    <tr>\n",
       "      <th>95</th>\n",
       "      <td>간단한 설문만으로도 영양제 분석 및 추천 서비스를 받을 수 있음, 영양제 섭취 습관...</td>\n",
       "    </tr>\n",
       "    <tr>\n",
       "      <th>96</th>\n",
       "      <td>간단한 설문만으로도 영양제 분석 및 추천 서비스를 받을 수 있음, 부족한 영양성분 ...</td>\n",
       "    </tr>\n",
       "    <tr>\n",
       "      <th>97</th>\n",
       "      <td>영양제 섭취 습관에 대한 개인 맞춤형 분석 제공, 부족한 영양성분 파악 가능</td>\n",
       "    </tr>\n",
       "    <tr>\n",
       "      <th>98</th>\n",
       "      <td>영양제 섭취 습관에 대한 개인 맞춤형 분석 제공, 직관적이고 간편한 화면 구성</td>\n",
       "    </tr>\n",
       "    <tr>\n",
       "      <th>99</th>\n",
       "      <td>간단한 설문만으로도 영양제 분석 및 추천 서비스를 받을 수 있음, 영양제 섭취 습관...</td>\n",
       "    </tr>\n",
       "  </tbody>\n",
       "</table>\n",
       "<p>99 rows × 1 columns</p>\n",
       "</div>"
      ],
      "text/plain": [
       "                                                   장점\n",
       "1   간단한 설문만으로도 영양제 분석 및 추천 서비스를 받을 수 있음, 영양제 섭취 습관...\n",
       "2                                      부족한 영양성분 파악 가능\n",
       "3                          영양제 섭취 습관에 대한 개인 맞춤형 분석 제공\n",
       "4                                     직관적이고 간편한 화면 구성\n",
       "5                 간단한 설문만으로도 영양제 분석 및 추천 서비스를 받을 수 있음\n",
       "..                                                ...\n",
       "95  간단한 설문만으로도 영양제 분석 및 추천 서비스를 받을 수 있음, 영양제 섭취 습관...\n",
       "96  간단한 설문만으로도 영양제 분석 및 추천 서비스를 받을 수 있음, 부족한 영양성분 ...\n",
       "97         영양제 섭취 습관에 대한 개인 맞춤형 분석 제공, 부족한 영양성분 파악 가능\n",
       "98        영양제 섭취 습관에 대한 개인 맞춤형 분석 제공, 직관적이고 간편한 화면 구성\n",
       "99  간단한 설문만으로도 영양제 분석 및 추천 서비스를 받을 수 있음, 영양제 섭취 습관...\n",
       "\n",
       "[99 rows x 1 columns]"
      ]
     },
     "execution_count": 24,
     "metadata": {},
     "output_type": "execute_result"
    }
   ],
   "source": [
    "dat[['장점']]"
   ]
  },
  {
   "cell_type": "code",
   "execution_count": 25,
   "metadata": {
    "id": "_x7C2IBypgCP"
   },
   "outputs": [
    {
     "ename": "AttributeError",
     "evalue": "'Series' object has no attribute 'split'",
     "output_type": "error",
     "traceback": [
      "\u001b[1;31m---------------------------------------------------------------------------\u001b[0m",
      "\u001b[1;31mAttributeError\u001b[0m                            Traceback (most recent call last)",
      "\u001b[1;32m<ipython-input-25-df6d91ee81d4>\u001b[0m in \u001b[0;36m<module>\u001b[1;34m\u001b[0m\n\u001b[0;32m      1\u001b[0m \u001b[1;32mfor\u001b[0m \u001b[0mi\u001b[0m \u001b[1;32min\u001b[0m \u001b[0mrange\u001b[0m\u001b[1;33m(\u001b[0m\u001b[0mlen\u001b[0m\u001b[1;33m(\u001b[0m\u001b[0mdat\u001b[0m\u001b[1;33m[\u001b[0m\u001b[1;33m[\u001b[0m\u001b[1;34m'장점'\u001b[0m\u001b[1;33m]\u001b[0m\u001b[1;33m]\u001b[0m\u001b[1;33m)\u001b[0m\u001b[1;33m)\u001b[0m \u001b[1;33m:\u001b[0m\u001b[1;33m\u001b[0m\u001b[1;33m\u001b[0m\u001b[0m\n\u001b[1;32m----> 2\u001b[1;33m     \u001b[0mresult\u001b[0m \u001b[1;33m=\u001b[0m \u001b[0mdat\u001b[0m\u001b[1;33m[\u001b[0m\u001b[1;33m[\u001b[0m\u001b[1;34m'장점'\u001b[0m\u001b[1;33m]\u001b[0m\u001b[1;33m]\u001b[0m\u001b[1;33m.\u001b[0m\u001b[0miloc\u001b[0m\u001b[1;33m[\u001b[0m\u001b[0mi\u001b[0m\u001b[1;33m]\u001b[0m\u001b[1;33m.\u001b[0m\u001b[0msplit\u001b[0m\u001b[1;33m(\u001b[0m\u001b[1;34m','\u001b[0m\u001b[1;33m)\u001b[0m\u001b[1;33m\u001b[0m\u001b[1;33m\u001b[0m\u001b[0m\n\u001b[0m\u001b[0;32m      3\u001b[0m     \u001b[0mprint\u001b[0m\u001b[1;33m(\u001b[0m\u001b[0mresult\u001b[0m\u001b[1;33m)\u001b[0m\u001b[1;33m\u001b[0m\u001b[1;33m\u001b[0m\u001b[0m\n\u001b[0;32m      4\u001b[0m \u001b[1;31m#     print(dat[['장점']].iloc[i])\u001b[0m\u001b[1;33m\u001b[0m\u001b[1;33m\u001b[0m\u001b[1;33m\u001b[0m\u001b[0m\n\u001b[0;32m      5\u001b[0m \u001b[1;33m\u001b[0m\u001b[0m\n",
      "\u001b[1;32m~\\anaconda3\\lib\\site-packages\\pandas\\core\\generic.py\u001b[0m in \u001b[0;36m__getattr__\u001b[1;34m(self, name)\u001b[0m\n\u001b[0;32m   5137\u001b[0m             \u001b[1;32mif\u001b[0m \u001b[0mself\u001b[0m\u001b[1;33m.\u001b[0m\u001b[0m_info_axis\u001b[0m\u001b[1;33m.\u001b[0m\u001b[0m_can_hold_identifiers_and_holds_name\u001b[0m\u001b[1;33m(\u001b[0m\u001b[0mname\u001b[0m\u001b[1;33m)\u001b[0m\u001b[1;33m:\u001b[0m\u001b[1;33m\u001b[0m\u001b[1;33m\u001b[0m\u001b[0m\n\u001b[0;32m   5138\u001b[0m                 \u001b[1;32mreturn\u001b[0m \u001b[0mself\u001b[0m\u001b[1;33m[\u001b[0m\u001b[0mname\u001b[0m\u001b[1;33m]\u001b[0m\u001b[1;33m\u001b[0m\u001b[1;33m\u001b[0m\u001b[0m\n\u001b[1;32m-> 5139\u001b[1;33m             \u001b[1;32mreturn\u001b[0m \u001b[0mobject\u001b[0m\u001b[1;33m.\u001b[0m\u001b[0m__getattribute__\u001b[0m\u001b[1;33m(\u001b[0m\u001b[0mself\u001b[0m\u001b[1;33m,\u001b[0m \u001b[0mname\u001b[0m\u001b[1;33m)\u001b[0m\u001b[1;33m\u001b[0m\u001b[1;33m\u001b[0m\u001b[0m\n\u001b[0m\u001b[0;32m   5140\u001b[0m \u001b[1;33m\u001b[0m\u001b[0m\n\u001b[0;32m   5141\u001b[0m     \u001b[1;32mdef\u001b[0m \u001b[0m__setattr__\u001b[0m\u001b[1;33m(\u001b[0m\u001b[0mself\u001b[0m\u001b[1;33m,\u001b[0m \u001b[0mname\u001b[0m\u001b[1;33m:\u001b[0m \u001b[0mstr\u001b[0m\u001b[1;33m,\u001b[0m \u001b[0mvalue\u001b[0m\u001b[1;33m)\u001b[0m \u001b[1;33m->\u001b[0m \u001b[1;32mNone\u001b[0m\u001b[1;33m:\u001b[0m\u001b[1;33m\u001b[0m\u001b[1;33m\u001b[0m\u001b[0m\n",
      "\u001b[1;31mAttributeError\u001b[0m: 'Series' object has no attribute 'split'"
     ]
    }
   ],
   "source": [
    "for i in range(len(dat[['장점']])) :\n",
    "    result = dat[['장점']].iloc[i].split(',')\n",
    "    print(result)\n",
    "#     print(dat[['장점']].iloc[i])\n",
    "    \n",
    "#     print(i)"
   ]
  },
  {
   "cell_type": "code",
   "execution_count": null,
   "metadata": {},
   "outputs": [],
   "source": [
    "dat[['장점']].iloc[1]"
   ]
  },
  {
   "cell_type": "code",
   "execution_count": null,
   "metadata": {
    "id": "nRBOn_4Kpf9t"
   },
   "outputs": [],
   "source": [
    "dat_count = dat['장점'].value_counts()\n",
    "dat_count.plot.bar()"
   ]
  },
  {
   "cell_type": "code",
   "execution_count": null,
   "metadata": {
    "id": "OmHCgqLzpf5c"
   },
   "outputs": [],
   "source": []
  },
  {
   "cell_type": "code",
   "execution_count": null,
   "metadata": {
    "id": "1uo4pfixpfxD"
   },
   "outputs": [],
   "source": []
  },
  {
   "cell_type": "code",
   "execution_count": null,
   "metadata": {
    "id": "ZIddOpsUpfrz"
   },
   "outputs": [],
   "source": []
  },
  {
   "cell_type": "code",
   "execution_count": null,
   "metadata": {
    "id": "amg9KgHCpfkO"
   },
   "outputs": [],
   "source": []
  }
 ],
 "metadata": {
  "colab": {
   "authorship_tag": "ABX9TyMWdtOh76PWBl6gSfs06yql",
   "include_colab_link": true,
   "mount_file_id": "1WlePAkw2TCWz5DZMwtxe9B-HcswAMkko",
   "provenance": []
  },
  "kernelspec": {
   "display_name": "Python 3",
   "language": "python",
   "name": "python3"
  },
  "language_info": {
   "codemirror_mode": {
    "name": "ipython",
    "version": 3
   },
   "file_extension": ".py",
   "mimetype": "text/x-python",
   "name": "python",
   "nbconvert_exporter": "python",
   "pygments_lexer": "ipython3",
   "version": "3.8.5"
  }
 },
 "nbformat": 4,
 "nbformat_minor": 1
}
